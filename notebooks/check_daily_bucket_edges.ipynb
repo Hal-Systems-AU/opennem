{
 "cells": [
  {
   "cell_type": "markdown",
   "id": "04482e66",
   "metadata": {},
   "source": [
    "# daily bucket edges bug\n",
    "\n",
    "see issue on GitHub:\n",
    "\n",
    "https://github.com/opennem/opennem/issues/38\n",
    "\n",
    "leading edges (ie. current day) of stripes showing null/none when there should be a value\n",
    "\n",
    "notebook showing that the daily JSON output has data up to the latest date for each id type\n"
   ]
  },
  {
   "cell_type": "code",
   "execution_count": 8,
   "id": "6388bcfb",
   "metadata": {},
   "outputs": [],
   "source": [
    "import notebook_init\n",
    "from opennem.utils.http import http\n"
   ]
  },
  {
   "cell_type": "code",
   "execution_count": 11,
   "id": "cd98dbb1",
   "metadata": {},
   "outputs": [
    {
     "name": "stdout",
     "output_type": "stream",
     "text": [
      "au.nem.nsw1.fuel_tech.hydro.energy                 => 1998-12-07T00:00:00+10:00 2021-10-13T00:00:00+10:00      0\n",
      "au.nem.nsw1.fuel_tech.pumps.energy                 => 1998-12-07T00:00:00+10:00 2021-10-13T00:00:00+10:00      0\n",
      "au.nem.nsw1.fuel_tech.solar_rooftop.energy         => 2005-04-01T00:00:00+10:00 2021-10-13T00:00:00+10:00      0\n",
      "au.nem.nsw1.fuel_tech.solar_utility.energy         => 1998-12-07T00:00:00+10:00 2021-10-13T00:00:00+10:00      0\n",
      "au.nem.nsw1.fuel_tech.gas_ocgt.energy              => 1998-12-07T00:00:00+10:00 2021-10-13T00:00:00+10:00      0\n",
      "au.nem.nsw1.fuel_tech.gas_ccgt.energy              => 1998-12-07T00:00:00+10:00 2021-10-13T00:00:00+10:00      0\n",
      "au.nem.nsw1.fuel_tech.coal_black.energy            => 1998-12-07T00:00:00+10:00 2021-10-13T00:00:00+10:00      0\n",
      "au.nem.nsw1.fuel_tech.wind.energy                  => 1998-12-07T00:00:00+10:00 2021-10-13T00:00:00+10:00      0\n",
      "au.nem.nsw1.fuel_tech.distillate.energy            => 1998-12-07T00:00:00+10:00 2021-10-13T00:00:00+10:00      0\n",
      "au.nem.nsw1.fuel_tech.hydro.market_value           => 1998-12-07T00:00:00+10:00 2021-10-13T00:00:00+10:00      0\n",
      "au.nem.nsw1.fuel_tech.pumps.market_value           => 1998-12-07T00:00:00+10:00 2021-10-13T00:00:00+10:00      0\n",
      "au.nem.nsw1.fuel_tech.solar_rooftop.market_value   => 2005-04-01T00:00:00+10:00 2021-10-13T00:00:00+10:00      0\n",
      "au.nem.nsw1.fuel_tech.solar_utility.market_value   => 1998-12-07T00:00:00+10:00 2021-10-13T00:00:00+10:00      0\n",
      "au.nem.nsw1.fuel_tech.gas_ocgt.market_value        => 1998-12-07T00:00:00+10:00 2021-10-13T00:00:00+10:00      0\n",
      "au.nem.nsw1.fuel_tech.gas_ccgt.market_value        => 1998-12-07T00:00:00+10:00 2021-10-13T00:00:00+10:00      0\n",
      "au.nem.nsw1.fuel_tech.coal_black.market_value      => 1998-12-07T00:00:00+10:00 2021-10-13T00:00:00+10:00      0\n",
      "au.nem.nsw1.fuel_tech.wind.market_value            => 1998-12-07T00:00:00+10:00 2021-10-13T00:00:00+10:00      0\n",
      "au.nem.nsw1.fuel_tech.distillate.market_value      => 1998-12-07T00:00:00+10:00 2021-10-13T00:00:00+10:00      0\n",
      "au.nem.nsw1.fuel_tech.gas_ocgt.emissions           => 1998-12-07T00:00:00+10:00 2021-10-13T00:00:00+10:00      0\n",
      "au.nem.nsw1.fuel_tech.gas_ccgt.emissions           => 1998-12-07T00:00:00+10:00 2021-10-13T00:00:00+10:00      0\n",
      "au.nem.nsw1.fuel_tech.coal_black.emissions         => 1998-12-07T00:00:00+10:00 2021-10-13T00:00:00+10:00      0\n",
      "au.nem.nsw1.fuel_tech.distillate.emissions         => 1998-12-07T00:00:00+10:00 2021-10-13T00:00:00+10:00      0\n",
      "au.nem.nsw1.fuel_tech.imports.energy               => 1998-12-13T00:00:00+10:00 2021-10-13T00:00:00+10:00 -18.05\n",
      "au.nem.nsw1.fuel_tech.exports.energy               => 1998-12-13T00:00:00+10:00 2021-10-13T00:00:00+10:00 0.002559\n",
      "au.nem.nsw1.fuel_tech.imports.market_value         => 2009-07-01T00:00:00+10:00 2021-10-13T00:00:00+10:00 1168018\n",
      "au.nem.nsw1.fuel_tech.exports.market_value         => 2009-07-01T00:00:00+10:00 2021-10-13T00:00:00+10:00  179.3\n",
      "au.nem.nsw1.fuel_tech.imports.emissions            => 2009-07-01T00:00:00+10:00 2021-10-13T00:00:00+10:00      0\n",
      "au.nem.nsw1.fuel_tech.exports.emissions            => 2009-07-01T00:00:00+10:00 2021-10-13T00:00:00+10:00      0\n",
      "au.nem.nsw1.temperature_mean                       => 1998-12-07T00:00:00+10:00 2021-10-13T00:00:00+10:00  16.05\n",
      "au.nem.nsw1.temperature_min                        => 1998-12-07T00:00:00+10:00 2021-10-13T00:00:00+10:00   13.7\n",
      "au.nem.nsw1.temperature_max                        => 1998-12-07T00:00:00+10:00 2021-10-13T00:00:00+10:00   17.8\n",
      "au.nem.cpi                                         => 1922-06-01T10:00:00+10:00 2021-03-31T10:00:00+10:00  117.9\n"
     ]
    }
   ],
   "source": [
    "resp = http.get(\"https://data.dev.opennem.org.au/v3/stats/au/NSW1/daily.json\").json()\n",
    "\n",
    "for i in resp[\"data\"]:       \n",
    "    print(\n",
    "        \"{:50} => {:12} {:12} {:6}\".format(\n",
    "            i[\"id\"], \n",
    "            i[\"history\"][\"start\"],\n",
    "            i[\"history\"][\"last\"],\n",
    "            i[\"history\"][\"data\"].pop()\n",
    "        )\n",
    "    )\n",
    "    "
   ]
  }
 ],
 "metadata": {
  "kernelspec": {
   "display_name": "Python 3 (ipykernel)",
   "language": "python",
   "name": "python3"
  },
  "language_info": {
   "codemirror_mode": {
    "name": "ipython",
    "version": 3
   },
   "file_extension": ".py",
   "mimetype": "text/x-python",
   "name": "python",
   "nbconvert_exporter": "python",
   "pygments_lexer": "ipython3",
   "version": "3.9.7"
  }
 },
 "nbformat": 4,
 "nbformat_minor": 5
}
